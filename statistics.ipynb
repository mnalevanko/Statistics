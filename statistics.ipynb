{
 "cells": [
  {
   "cell_type": "markdown",
   "id": "e0ad9303",
   "metadata": {},
   "source": [
    "### What is statistics?\n",
    "\n",
    "<ul>\n",
    "    <li>The field of statistics - the practice and study of collecting and analyzing data.</li>\n",
    "    <li>A summary statistic - a fact about or summary of some data.</li>\n",
    "</ul>\n",
    "\n",
    "<b>Measures of Centre</b>\n",
    " <ul>\n",
    "    <li>Mean</li>\n",
    "    <li>Median</li>\n",
    "    <li>Mode</li>\n",
    "</ul>"
   ]
  },
  {
   "cell_type": "code",
   "execution_count": 1,
   "id": "8e033b35",
   "metadata": {},
   "outputs": [],
   "source": [
    "#Importing Required Libraries\n",
    "import pandas as pd\n",
    "import numpy as np\n",
    "import matplotlib.pyplot as plt"
   ]
  },
  {
   "cell_type": "code",
   "execution_count": 2,
   "id": "ee9816ab",
   "metadata": {},
   "outputs": [],
   "source": [
    "#Loading dataset to dataframe\n",
    "df = pd.read_csv('dataset/food_consumption.csv')"
   ]
  },
  {
   "cell_type": "code",
   "execution_count": 3,
   "id": "8f0323ab",
   "metadata": {},
   "outputs": [],
   "source": [
    "df.drop('Unnamed: 0', axis = 1, inplace=True)"
   ]
  },
  {
   "cell_type": "code",
   "execution_count": 4,
   "id": "ae5d6a46",
   "metadata": {},
   "outputs": [
    {
     "data": {
      "text/html": [
       "<div>\n",
       "<style scoped>\n",
       "    .dataframe tbody tr th:only-of-type {\n",
       "        vertical-align: middle;\n",
       "    }\n",
       "\n",
       "    .dataframe tbody tr th {\n",
       "        vertical-align: top;\n",
       "    }\n",
       "\n",
       "    .dataframe thead th {\n",
       "        text-align: right;\n",
       "    }\n",
       "</style>\n",
       "<table border=\"1\" class=\"dataframe\">\n",
       "  <thead>\n",
       "    <tr style=\"text-align: right;\">\n",
       "      <th></th>\n",
       "      <th>country</th>\n",
       "      <th>food_category</th>\n",
       "      <th>consumption</th>\n",
       "      <th>co2_emission</th>\n",
       "    </tr>\n",
       "  </thead>\n",
       "  <tbody>\n",
       "    <tr>\n",
       "      <th>0</th>\n",
       "      <td>Argentina</td>\n",
       "      <td>pork</td>\n",
       "      <td>10.51</td>\n",
       "      <td>37.20</td>\n",
       "    </tr>\n",
       "    <tr>\n",
       "      <th>1</th>\n",
       "      <td>Argentina</td>\n",
       "      <td>poultry</td>\n",
       "      <td>38.66</td>\n",
       "      <td>41.53</td>\n",
       "    </tr>\n",
       "    <tr>\n",
       "      <th>2</th>\n",
       "      <td>Argentina</td>\n",
       "      <td>beef</td>\n",
       "      <td>55.48</td>\n",
       "      <td>1712.00</td>\n",
       "    </tr>\n",
       "    <tr>\n",
       "      <th>3</th>\n",
       "      <td>Argentina</td>\n",
       "      <td>lamb_goat</td>\n",
       "      <td>1.56</td>\n",
       "      <td>54.63</td>\n",
       "    </tr>\n",
       "    <tr>\n",
       "      <th>4</th>\n",
       "      <td>Argentina</td>\n",
       "      <td>fish</td>\n",
       "      <td>4.36</td>\n",
       "      <td>6.96</td>\n",
       "    </tr>\n",
       "  </tbody>\n",
       "</table>\n",
       "</div>"
      ],
      "text/plain": [
       "     country food_category  consumption  co2_emission\n",
       "0  Argentina          pork        10.51         37.20\n",
       "1  Argentina       poultry        38.66         41.53\n",
       "2  Argentina          beef        55.48       1712.00\n",
       "3  Argentina     lamb_goat         1.56         54.63\n",
       "4  Argentina          fish         4.36          6.96"
      ]
     },
     "execution_count": 4,
     "metadata": {},
     "output_type": "execute_result"
    }
   ],
   "source": [
    "df.head()"
   ]
  },
  {
   "cell_type": "code",
   "execution_count": 5,
   "id": "a3170803",
   "metadata": {},
   "outputs": [
    {
     "name": "stdout",
     "output_type": "stream",
     "text": [
      "28.110405594405623\n"
     ]
    }
   ],
   "source": [
    "#Mean\n",
    "mean_ = np.mean(df['consumption'])\n",
    "print(mean_)"
   ]
  },
  {
   "cell_type": "code",
   "execution_count": 6,
   "id": "15a9fe14",
   "metadata": {},
   "outputs": [
    {
     "name": "stdout",
     "output_type": "stream",
     "text": [
      "8.89\n"
     ]
    }
   ],
   "source": [
    "#Median\n",
    "median_ = np.median(df['consumption'].sort_values())\n",
    "print(median_)"
   ]
  },
  {
   "cell_type": "code",
   "execution_count": null,
   "id": "7bbfec7a",
   "metadata": {},
   "outputs": [],
   "source": [
    "#Mode\n",
    "import statistics\n",
    "mode_ = statistics.mode(df['foo'])"
   ]
  },
  {
   "cell_type": "code",
   "execution_count": 7,
   "id": "6c05f377",
   "metadata": {},
   "outputs": [],
   "source": [
    "#Subsetting for India and USA\n",
    "ind_consumption = df[df['country'] == 'India']\n",
    "usa_consumption = df[df['country'] == 'USA']"
   ]
  },
  {
   "cell_type": "code",
   "execution_count": 8,
   "id": "8213ee98",
   "metadata": {},
   "outputs": [
    {
     "name": "stdout",
     "output_type": "stream",
     "text": [
      "Mean: 20.699999999999996\n",
      "Median: 1.92\n"
     ]
    }
   ],
   "source": [
    "# Calculate mean and median consumption in India\n",
    "print('Mean:',np.mean(ind_consumption['consumption']))\n",
    "print('Median:',np.median(ind_consumption['consumption']))"
   ]
  },
  {
   "cell_type": "code",
   "execution_count": 9,
   "id": "71b9e5e4",
   "metadata": {},
   "outputs": [
    {
     "data": {
      "text/plain": [
       "count    11.000000\n",
       "mean     20.700000\n",
       "std      33.106673\n",
       "min       0.280000\n",
       "25%       0.695000\n",
       "50%       1.920000\n",
       "75%      32.635000\n",
       "max      84.500000\n",
       "Name: consumption, dtype: float64"
      ]
     },
     "execution_count": 9,
     "metadata": {},
     "output_type": "execute_result"
    }
   ],
   "source": [
    "ind_consumption['consumption'].describe()"
   ]
  },
  {
   "cell_type": "code",
   "execution_count": 10,
   "id": "58c06011",
   "metadata": {},
   "outputs": [
    {
     "data": {
      "image/png": "[encoded data removed]",
      "text/plain": [
       "<Figure size 432x288 with 1 Axes>"
      ]
     },
     "metadata": {
      "needs_background": "light"
     },
     "output_type": "display_data"
    }
   ],
   "source": [
    "ind_consumption['consumption'].hist()\n",
    "plt.show()"
   ]
  },
  {
   "cell_type": "code",
   "execution_count": 11,
   "id": "e0efe454",
   "metadata": {},
   "outputs": [
    {
     "data": {
      "text/plain": [
       "food_category\n",
       "beef          0.81\n",
       "dairy        84.50\n",
       "eggs          2.58\n",
       "fish          4.71\n",
       "lamb_goat     0.58\n",
       "nuts          1.92\n",
       "pork          0.28\n",
       "poultry       1.88\n",
       "rice         69.49\n",
       "soybeans      0.39\n",
       "wheat        60.56\n",
       "Name: consumption, dtype: float64"
      ]
     },
     "execution_count": 11,
     "metadata": {},
     "output_type": "execute_result"
    }
   ],
   "source": [
    "ind_consumption.groupby('food_category')['consumption'].sum()"
   ]
  },
  {
   "cell_type": "code",
   "execution_count": 12,
   "id": "fdee85f4",
   "metadata": {},
   "outputs": [
    {
     "name": "stdout",
     "output_type": "stream",
     "text": [
      "Mean: 44.650000000000006\n",
      "Median: 14.58\n"
     ]
    }
   ],
   "source": [
    "# Calculate mean and median consumption in USA\n",
    "print('Mean:',np.mean(usa_consumption['consumption']))\n",
    "print('Median:',np.median(usa_consumption['consumption']))"
   ]
  },
  {
   "cell_type": "code",
   "execution_count": 13,
   "id": "7f777d0c",
   "metadata": {},
   "outputs": [
    {
     "data": {
      "text/plain": [
       "count     11.000000\n",
       "mean      44.650000\n",
       "std       73.796233\n",
       "min        0.040000\n",
       "25%        7.370000\n",
       "50%       14.580000\n",
       "75%       43.125000\n",
       "max      254.690000\n",
       "Name: consumption, dtype: float64"
      ]
     },
     "execution_count": 13,
     "metadata": {},
     "output_type": "execute_result"
    }
   ],
   "source": [
    "usa_consumption['consumption'].describe()"
   ]
  },
  {
   "cell_type": "code",
   "execution_count": 14,
   "id": "bb10da16",
   "metadata": {},
   "outputs": [
    {
     "data": {
      "image/png": "[encoded data removed]",
      "text/plain": [
       "<Figure size 432x288 with 1 Axes>"
      ]
     },
     "metadata": {
      "needs_background": "light"
     },
     "output_type": "display_data"
    }
   ],
   "source": [
    "usa_consumption['consumption'].hist()\n",
    "plt.show()"
   ]
  },
  {
   "cell_type": "code",
   "execution_count": 15,
   "id": "ac52c71d",
   "metadata": {},
   "outputs": [
    {
     "data": {
      "text/plain": [
       "food_category\n",
       "beef          36.24\n",
       "dairy        254.69\n",
       "eggs          14.58\n",
       "fish          12.35\n",
       "lamb_goat      0.43\n",
       "nuts           7.86\n",
       "pork          27.64\n",
       "poultry       50.01\n",
       "rice           6.88\n",
       "soybeans       0.04\n",
       "wheat         80.43\n",
       "Name: consumption, dtype: float64"
      ]
     },
     "execution_count": 15,
     "metadata": {},
     "output_type": "execute_result"
    }
   ],
   "source": [
    "usa_consumption.groupby('food_category')['consumption'].sum()"
   ]
  },
  {
   "cell_type": "markdown",
   "id": "1dc1b3c9",
   "metadata": {},
   "source": [
    "<p><b>Which measure to use?</b>\n",
    "<br/>\n",
    "Since the mean is more sensitive to extreme values, it works better for symmetrical data. However, if the data is skewed, meaning it's not symmetrical, like above plots, median is usually better to use. When data is skewed, the mean and median are different. The mean is pulled in the direction of the skew, so it's lower than the median on the <b>left-skewed data</b>, and higher than the median on the <b>right-skewed data</b>. Because the mean is pulled around by the extreme values, it's better to use the median since it's less affected by outliers.\n",
    "</p>\n",
    "<hr></hr>"
   ]
  },
  {
   "cell_type": "markdown",
   "id": "a3e03269",
   "metadata": {},
   "source": [
    "<b>Measures of Spread</b>\n",
    "<p>Spread is just what it sounds like - it describes how spread apart or close together the data points are. Just like measures of center, there are a few different measures of spread.</p>\n",
    "<ul>\n",
    "    <li>Variance</li>\n",
    "    <li>Standard Deviation</li>\n",
    "</ul>"
   ]
  },
  {
   "cell_type": "code",
   "execution_count": 16,
   "id": "da112dd5",
   "metadata": {},
   "outputs": [
    {
     "data": {
      "text/html": [
       "<div>\n",
       "<style scoped>\n",
       "    .dataframe tbody tr th:only-of-type {\n",
       "        vertical-align: middle;\n",
       "    }\n",
       "\n",
       "    .dataframe tbody tr th {\n",
       "        vertical-align: top;\n",
       "    }\n",
       "\n",
       "    .dataframe thead th {\n",
       "        text-align: right;\n",
       "    }\n",
       "</style>\n",
       "<table border=\"1\" class=\"dataframe\">\n",
       "  <thead>\n",
       "    <tr style=\"text-align: right;\">\n",
       "      <th></th>\n",
       "      <th>consumption</th>\n",
       "      <th>co2_emission</th>\n",
       "    </tr>\n",
       "  </thead>\n",
       "  <tbody>\n",
       "    <tr>\n",
       "      <th>count</th>\n",
       "      <td>1430.000000</td>\n",
       "      <td>1430.000000</td>\n",
       "    </tr>\n",
       "    <tr>\n",
       "      <th>mean</th>\n",
       "      <td>28.110406</td>\n",
       "      <td>74.383993</td>\n",
       "    </tr>\n",
       "    <tr>\n",
       "      <th>std</th>\n",
       "      <td>49.818044</td>\n",
       "      <td>152.098566</td>\n",
       "    </tr>\n",
       "    <tr>\n",
       "      <th>min</th>\n",
       "      <td>0.000000</td>\n",
       "      <td>0.000000</td>\n",
       "    </tr>\n",
       "    <tr>\n",
       "      <th>25%</th>\n",
       "      <td>2.365000</td>\n",
       "      <td>5.210000</td>\n",
       "    </tr>\n",
       "    <tr>\n",
       "      <th>50%</th>\n",
       "      <td>8.890000</td>\n",
       "      <td>16.530000</td>\n",
       "    </tr>\n",
       "    <tr>\n",
       "      <th>75%</th>\n",
       "      <td>28.132500</td>\n",
       "      <td>62.597500</td>\n",
       "    </tr>\n",
       "    <tr>\n",
       "      <th>max</th>\n",
       "      <td>430.760000</td>\n",
       "      <td>1712.000000</td>\n",
       "    </tr>\n",
       "  </tbody>\n",
       "</table>\n",
       "</div>"
      ],
      "text/plain": [
       "       consumption  co2_emission\n",
       "count  1430.000000   1430.000000\n",
       "mean     28.110406     74.383993\n",
       "std      49.818044    152.098566\n",
       "min       0.000000      0.000000\n",
       "25%       2.365000      5.210000\n",
       "50%       8.890000     16.530000\n",
       "75%      28.132500     62.597500\n",
       "max     430.760000   1712.000000"
      ]
     },
     "execution_count": 16,
     "metadata": {},
     "output_type": "execute_result"
    }
   ],
   "source": [
    "df.describe()"
   ]
  },
  {
   "cell_type": "code",
   "execution_count": 18,
   "id": "d5542d77",
   "metadata": {},
   "outputs": [
    {
     "name": "stdout",
     "output_type": "stream",
     "text": [
      "consumption Variance:  2480.1020030522786\n",
      "co2_emission Variance:  23117.796034615305\n"
     ]
    }
   ],
   "source": [
    "#Variance for consumption and co2_emission\n",
    "print('consumption Variance: ', np.var(df['consumption']))\n",
    "print('co2_emission Variance: ', np.var(df['co2_emission']))"
   ]
  },
  {
   "cell_type": "code",
   "execution_count": 19,
   "id": "65217c5d",
   "metadata": {},
   "outputs": [
    {
     "name": "stdout",
     "output_type": "stream",
     "text": [
      "Consumption STD:  49.80062251671437\n",
      "CO2_emission STD:  152.04537492017081\n"
     ]
    }
   ],
   "source": [
    "#Standard Deviation(STD) for consumption and co2_emission\n",
    "print('Consumption STD: ', np.std(df['consumption']))\n",
    "print('CO2_emission STD: ', np.std(df['co2_emission']))"
   ]
  },
  {
   "cell_type": "code",
   "execution_count": 30,
   "id": "8b9007c4",
   "metadata": {},
   "outputs": [],
   "source": [
    "from scipy.stats import iqr #IQR = Height of the box in a boxplot"
   ]
  },
  {
   "cell_type": "code",
   "execution_count": 23,
   "id": "3b0a316f",
   "metadata": {},
   "outputs": [
    {
     "name": "stdout",
     "output_type": "stream",
     "text": [
      "25.7675\n"
     ]
    }
   ],
   "source": [
    "iqr_consum = iqr(df['consumption']) \n",
    "print(iqr_consum)"
   ]
  },
  {
   "cell_type": "code",
   "execution_count": 29,
   "id": "0de4463f",
   "metadata": {},
   "outputs": [
    {
     "data": {
      "image/png": "[encoded data removed]",
      "text/plain": [
       "<Figure size 432x288 with 1 Axes>"
      ]
     },
     "metadata": {
      "needs_background": "light"
     },
     "output_type": "display_data"
    }
   ],
   "source": [
    "plt.boxplot(df['consumption']) \n",
    "plt.show()"
   ]
  },
  {
   "cell_type": "markdown",
   "id": "f1ead857",
   "metadata": {},
   "source": [
    "<p><b>Outlier: data point that is substantially different from the others</b><p>\n",
    "<p>How do we know what a substantial difference is? A data point is an outlier if:</p>\n",
    "data < Q1 − 1.5 × IQR or\n",
    "<br/>\n",
    "data > Q3 + 1.5 × IQR"
   ]
  },
  {
   "cell_type": "code",
   "execution_count": 25,
   "id": "1975cd57",
   "metadata": {},
   "outputs": [],
   "source": [
    "iqr_co2 = iqr(df['co2_emission'])\n",
    "lower_thresh = np.quantile(df['co2_emission'], 0.25) - 1.5 * iqr_co2\n",
    "upper_thresh = np.quantile(df['co2_emission'], 0.75) + 1.5 * iqr_co2"
   ]
  },
  {
   "cell_type": "code",
   "execution_count": 26,
   "id": "3d25f8bc",
   "metadata": {},
   "outputs": [
    {
     "data": {
      "text/html": [
       "<div>\n",
       "<style scoped>\n",
       "    .dataframe tbody tr th:only-of-type {\n",
       "        vertical-align: middle;\n",
       "    }\n",
       "\n",
       "    .dataframe tbody tr th {\n",
       "        vertical-align: top;\n",
       "    }\n",
       "\n",
       "    .dataframe thead th {\n",
       "        text-align: right;\n",
       "    }\n",
       "</style>\n",
       "<table border=\"1\" class=\"dataframe\">\n",
       "  <thead>\n",
       "    <tr style=\"text-align: right;\">\n",
       "      <th></th>\n",
       "      <th>country</th>\n",
       "      <th>food_category</th>\n",
       "      <th>consumption</th>\n",
       "      <th>co2_emission</th>\n",
       "    </tr>\n",
       "  </thead>\n",
       "  <tbody>\n",
       "    <tr>\n",
       "      <th>2</th>\n",
       "      <td>Argentina</td>\n",
       "      <td>beef</td>\n",
       "      <td>55.48</td>\n",
       "      <td>1712.00</td>\n",
       "    </tr>\n",
       "    <tr>\n",
       "      <th>6</th>\n",
       "      <td>Argentina</td>\n",
       "      <td>dairy</td>\n",
       "      <td>195.08</td>\n",
       "      <td>277.87</td>\n",
       "    </tr>\n",
       "    <tr>\n",
       "      <th>13</th>\n",
       "      <td>Australia</td>\n",
       "      <td>beef</td>\n",
       "      <td>33.86</td>\n",
       "      <td>1044.85</td>\n",
       "    </tr>\n",
       "    <tr>\n",
       "      <th>14</th>\n",
       "      <td>Australia</td>\n",
       "      <td>lamb_goat</td>\n",
       "      <td>9.87</td>\n",
       "      <td>345.65</td>\n",
       "    </tr>\n",
       "    <tr>\n",
       "      <th>17</th>\n",
       "      <td>Australia</td>\n",
       "      <td>dairy</td>\n",
       "      <td>234.49</td>\n",
       "      <td>334.01</td>\n",
       "    </tr>\n",
       "    <tr>\n",
       "      <th>...</th>\n",
       "      <td>...</td>\n",
       "      <td>...</td>\n",
       "      <td>...</td>\n",
       "      <td>...</td>\n",
       "    </tr>\n",
       "    <tr>\n",
       "      <th>1295</th>\n",
       "      <td>Philippines</td>\n",
       "      <td>rice</td>\n",
       "      <td>119.44</td>\n",
       "      <td>152.85</td>\n",
       "    </tr>\n",
       "    <tr>\n",
       "      <th>1366</th>\n",
       "      <td>Cambodia</td>\n",
       "      <td>beef</td>\n",
       "      <td>4.85</td>\n",
       "      <td>149.66</td>\n",
       "    </tr>\n",
       "    <tr>\n",
       "      <th>1372</th>\n",
       "      <td>Cambodia</td>\n",
       "      <td>rice</td>\n",
       "      <td>159.10</td>\n",
       "      <td>203.60</td>\n",
       "    </tr>\n",
       "    <tr>\n",
       "      <th>1405</th>\n",
       "      <td>Indonesia</td>\n",
       "      <td>rice</td>\n",
       "      <td>134.62</td>\n",
       "      <td>172.27</td>\n",
       "    </tr>\n",
       "    <tr>\n",
       "      <th>1427</th>\n",
       "      <td>Bangladesh</td>\n",
       "      <td>rice</td>\n",
       "      <td>171.73</td>\n",
       "      <td>219.76</td>\n",
       "    </tr>\n",
       "  </tbody>\n",
       "</table>\n",
       "<p>208 rows × 4 columns</p>\n",
       "</div>"
      ],
      "text/plain": [
       "          country food_category  consumption  co2_emission\n",
       "2       Argentina          beef        55.48       1712.00\n",
       "6       Argentina         dairy       195.08        277.87\n",
       "13      Australia          beef        33.86       1044.85\n",
       "14      Australia     lamb_goat         9.87        345.65\n",
       "17      Australia         dairy       234.49        334.01\n",
       "...           ...           ...          ...           ...\n",
       "1295  Philippines          rice       119.44        152.85\n",
       "1366     Cambodia          beef         4.85        149.66\n",
       "1372     Cambodia          rice       159.10        203.60\n",
       "1405    Indonesia          rice       134.62        172.27\n",
       "1427   Bangladesh          rice       171.73        219.76\n",
       "\n",
       "[208 rows x 4 columns]"
      ]
     },
     "execution_count": 26,
     "metadata": {},
     "output_type": "execute_result"
    }
   ],
   "source": [
    "df[(df['co2_emission'] < lower_thresh) | (df['co2_emission'] > upper_thresh)]"
   ]
  },
  {
   "cell_type": "code",
   "execution_count": 27,
   "id": "dd7a39ca",
   "metadata": {},
   "outputs": [
    {
     "data": {
      "text/plain": [
       "(1430, 4)"
      ]
     },
     "execution_count": 27,
     "metadata": {},
     "output_type": "execute_result"
    }
   ],
   "source": [
    "df.shape"
   ]
  },
  {
   "cell_type": "code",
   "execution_count": 28,
   "id": "7a99c610",
   "metadata": {},
   "outputs": [
    {
     "data": {
      "image/png": "[encoded data removed]",
      "text/plain": [
       "<Figure size 432x288 with 1 Axes>"
      ]
     },
     "metadata": {
      "needs_background": "light"
     },
     "output_type": "display_data"
    }
   ],
   "source": [
    "df['co2_emission'].hist()\n",
    "plt.show()"
   ]
  },
  {
   "cell_type": "code",
   "execution_count": null,
   "id": "6d6ae6c2",
   "metadata": {},
   "outputs": [],
   "source": []
  },
  {
   "cell_type": "code",
   "execution_count": null,
   "id": "2efedd3c",
   "metadata": {},
   "outputs": [],
   "source": []
  }
 ],
 "metadata": {
  "kernelspec": {
   "display_name": "Python 3",
   "language": "python",
   "name": "python3"
  },
  "language_info": {
   "codemirror_mode": {
    "name": "ipython",
    "version": 3
   },
   "file_extension": ".py",
   "mimetype": "text/x-python",
   "name": "python",
   "nbconvert_exporter": "python",
   "pygments_lexer": "ipython3",
   "version": "3.8.8"
  }
 },
 "nbformat": 4,
 "nbformat_minor": 5
}
